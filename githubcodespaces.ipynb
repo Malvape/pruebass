{
 "cells": [
  {
   "cell_type": "code",
   "execution_count": 4,
   "metadata": {},
   "outputs": [
    {
     "name": "stdout",
     "output_type": "stream",
     "text": [
      "\u001b[0m\u001b[01;34m.\u001b[0m/            \u001b[01;34m.conda\u001b[0m/   \u001b[01;34m.ipython\u001b[0m/  \u001b[01;34m.minikube\u001b[0m/   .profile  \u001b[01;34m.vscode-remote\u001b[0m/\n",
      "\u001b[01;34m..\u001b[0m/           \u001b[01;34m.config\u001b[0m/  \u001b[01;34m.jupyter\u001b[0m/  \u001b[01;34m.npm\u001b[0m/        \u001b[01;34m.python\u001b[0m/  .zprofile\n",
      ".bash_logout  \u001b[01;36m.docker\u001b[0m@  \u001b[01;34m.kaggle\u001b[0m/   \u001b[01;34m.nvs\u001b[0m/        \u001b[01;34m.rbenv\u001b[0m/   .zshrc\n",
      ".bashrc       \u001b[01;36m.dotnet\u001b[0m@  \u001b[01;34m.local\u001b[0m/    \u001b[01;34m.oh-my-zsh\u001b[0m/  \u001b[01;34m.ruby\u001b[0m/    \u001b[01;36mjava\u001b[0m@\n",
      "\u001b[01;34m.cache\u001b[0m/       \u001b[01;34m.hugo\u001b[0m/    \u001b[01;34m.maven\u001b[0m/    \u001b[01;34m.php\u001b[0m/        .rvmrc    \u001b[01;36mnvm\u001b[0m@\n"
     ]
    }
   ],
   "source": [
    "ls -a ~"
   ]
  },
  {
   "cell_type": "code",
   "execution_count": 3,
   "metadata": {},
   "outputs": [
    {
     "name": "stdout",
     "output_type": "stream",
     "text": [
      "Requirement already satisfied: kaggle in /usr/local/python/3.10.13/lib/python3.10/site-packages (1.6.14)\n",
      "Requirement already satisfied: six>=1.10 in /home/codespace/.local/lib/python3.10/site-packages (from kaggle) (1.16.0)\n",
      "Requirement already satisfied: certifi>=2023.7.22 in /home/codespace/.local/lib/python3.10/site-packages (from kaggle) (2024.2.2)\n",
      "Requirement already satisfied: python-dateutil in /home/codespace/.local/lib/python3.10/site-packages (from kaggle) (2.9.0.post0)\n",
      "Requirement already satisfied: requests in /home/codespace/.local/lib/python3.10/site-packages (from kaggle) (2.31.0)\n",
      "Requirement already satisfied: tqdm in /usr/local/python/3.10.13/lib/python3.10/site-packages (from kaggle) (4.66.4)\n",
      "Requirement already satisfied: python-slugify in /usr/local/python/3.10.13/lib/python3.10/site-packages (from kaggle) (8.0.4)\n",
      "Requirement already satisfied: urllib3 in /usr/local/python/3.10.13/lib/python3.10/site-packages (from kaggle) (2.0.7)\n",
      "Requirement already satisfied: bleach in /home/codespace/.local/lib/python3.10/site-packages (from kaggle) (6.1.0)\n",
      "Requirement already satisfied: webencodings in /home/codespace/.local/lib/python3.10/site-packages (from bleach->kaggle) (0.5.1)\n",
      "Requirement already satisfied: text-unidecode>=1.3 in /usr/local/python/3.10.13/lib/python3.10/site-packages (from python-slugify->kaggle) (1.3)\n",
      "Requirement already satisfied: charset-normalizer<4,>=2 in /home/codespace/.local/lib/python3.10/site-packages (from requests->kaggle) (3.3.2)\n",
      "Requirement already satisfied: idna<4,>=2.5 in /home/codespace/.local/lib/python3.10/site-packages (from requests->kaggle) (3.7)\n",
      "Note: you may need to restart the kernel to use updated packages.\n"
     ]
    }
   ],
   "source": [
    "pip install kaggle\n"
   ]
  },
  {
   "cell_type": "code",
   "execution_count": 5,
   "metadata": {},
   "outputs": [],
   "source": [
    "mv kaggle.json /home/codespace/.kaggle/"
   ]
  },
  {
   "cell_type": "code",
   "execution_count": null,
   "metadata": {},
   "outputs": [],
   "source": [
    "import pandas as pd\n",
    "\n",
    "# Load the dataset\n",
    "df = pd.read_csv('dataset-directory/dataset-file.csv')\n",
    "\n",
    "# Process the dataset\n",
    "print(df.head())\n"
   ]
  }
 ],
 "metadata": {
  "kernelspec": {
   "display_name": "Python 3",
   "language": "python",
   "name": "python3"
  },
  "language_info": {
   "codemirror_mode": {
    "name": "ipython",
    "version": 3
   },
   "file_extension": ".py",
   "mimetype": "text/x-python",
   "name": "python",
   "nbconvert_exporter": "python",
   "pygments_lexer": "ipython3",
   "version": "3.10.13"
  }
 },
 "nbformat": 4,
 "nbformat_minor": 2
}
